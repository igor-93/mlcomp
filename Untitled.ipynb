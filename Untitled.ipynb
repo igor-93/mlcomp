{
 "cells": [
  {
   "cell_type": "code",
   "execution_count": 1,
   "metadata": {
    "collapsed": false,
    "deletable": true,
    "editable": true
   },
   "outputs": [
    {
     "name": "stdout",
     "output_type": "stream",
     "text": [
      "Hello world!\n"
     ]
    }
   ],
   "source": [
    "print('Hello world!')"
   ]
  },
  {
   "cell_type": "code",
   "execution_count": null,
   "metadata": {
    "collapsed": true
   },
   "outputs": [],
   "source": [
    "\n",
    "load_file = 'data/train_data/train_image.txt'\n",
    "label_file = 'data/train_data/train_label.txt'\n",
    "load_f = open(load_file, 'rb')\n",
    "label_f = open(label_file, 'rb')\n",
    "\n",
    "paths = load_f.readlines()\n",
    "labels = label_f.readlines()\n",
    "\n",
    "paths = ['data/train_data/train/'+path for path in paths]\n",
    "labels = [int(l) for l in labels]\n"
   ]
  }
 ],
 "metadata": {
  "kernelspec": {
   "display_name": "Python 3",
   "language": "python",
   "name": "python3"
  },
  "language_info": {
   "codemirror_mode": {
    "name": "ipython",
    "version": 3
   },
   "file_extension": ".py",
   "mimetype": "text/x-python",
   "name": "python",
   "nbconvert_exporter": "python",
   "pygments_lexer": "ipython3",
   "version": "3.5.2"
  }
 },
 "nbformat": 4,
 "nbformat_minor": 2
}
